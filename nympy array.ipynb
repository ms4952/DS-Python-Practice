{
 "cells": [
  {
   "cell_type": "code",
   "execution_count": null,
   "metadata": {},
   "outputs": [],
   "source": [
    "#finding min max"
   ]
  },
  {
   "cell_type": "code",
   "execution_count": 11,
   "metadata": {},
   "outputs": [
    {
     "name": "stdout",
     "output_type": "stream",
     "text": [
      "max 3\n",
      "min 0\n"
     ]
    }
   ],
   "source": [
    "import numpy as np\n",
    "a=np.array([[0,1],[2,3]])\n",
    "print(\"max\",np.amax(a))\n",
    "print(\"min\",np.amin(a))"
   ]
  },
  {
   "cell_type": "markdown",
   "metadata": {},
   "source": [
    "#reshaping array"
   ]
  },
  {
   "cell_type": "code",
   "execution_count": 14,
   "metadata": {},
   "outputs": [
    {
     "data": {
      "text/plain": [
       "array([[0, 1],\n",
       "       [2, 3]])"
      ]
     },
     "execution_count": 14,
     "metadata": {},
     "output_type": "execute_result"
    }
   ],
   "source": [
    "x=np.arange(4)\n",
    "x.reshape(2,2)"
   ]
  },
  {
   "cell_type": "markdown",
   "metadata": {},
   "source": [
    " Write a NumPy program to calculate the difference between the maximum and the minimum values of a given array along the second axis. \n",
    " Original array:\n",
    "[[ 0 1 2 3 4 5]\n",
    "[ 6 7 8 9 10 11]]\n",
    "Difference between the maximum and the minimum values of the said array:\n",
    "[5 5]"
   ]
  },
  {
   "cell_type": "code",
   "execution_count": 25,
   "metadata": {},
   "outputs": [
    {
     "data": {
      "text/plain": [
       "array([5, 5])"
      ]
     },
     "execution_count": 25,
     "metadata": {},
     "output_type": "execute_result"
    }
   ],
   "source": [
    "a=np.arange(12)\n",
    "a=a.reshape(2,6)\n",
    "np.amax(a,axis=1)-np.amin(a,axis=1)"
   ]
  },
  {
   "cell_type": "markdown",
   "metadata": {},
   "source": [
    "Write a NumPy program to compute the 80th percentile for all elements in a given array along the second axis. Go to the editor\n",
    "Expected Output:\n",
    "Original array:\n",
    "[[ 0  1  2  3  4  5]\n",
    " [ 6  7  8  9 10 11]]\n",
    "\n",
    "80th percentile for all elements of the said array along the second axis:\n",
    "[ 4. 10.]"
   ]
  },
  {
   "cell_type": "code",
   "execution_count": 29,
   "metadata": {},
   "outputs": [
    {
     "name": "stdout",
     "output_type": "stream",
     "text": [
      "percentile [ 4. 10.]\n"
     ]
    }
   ],
   "source": [
    "a=np.arange(12)\n",
    "a=a.reshape(2,6)\n",
    "print(\"percentile\",np.percentile(a,80,axis=1))"
   ]
  },
  {
   "cell_type": "code",
   "execution_count": 31,
   "metadata": {},
   "outputs": [
    {
     "name": "stdout",
     "output_type": "stream",
     "text": [
      "median 5.5\n"
     ]
    }
   ],
   "source": [
    "print(\"median\",np.median(a))"
   ]
  },
  {
   "cell_type": "markdown",
   "metadata": {},
   "source": [
    "Write a NumPy program to compute the mean, standard deviation, and variance of a given array along the second axis. Go to the editor\n",
    "Sample output:\n",
    "Original array:\n",
    "[0 1 2 3 4 5]\n",
    "Mean: 2.5\n",
    "std: 1\n",
    "variance: 2.9166666666666665"
   ]
  },
  {
   "cell_type": "code",
   "execution_count": 32,
   "metadata": {},
   "outputs": [
    {
     "name": "stdout",
     "output_type": "stream",
     "text": [
      "2.5\n",
      "1.707825127659933\n",
      "2.9166666666666665\n"
     ]
    }
   ],
   "source": [
    "a=np.arange(6)\n",
    "print(np.mean(a))\n",
    "print(np.std(a))\n",
    "print(np.var(a))"
   ]
  },
  {
   "cell_type": "markdown",
   "metadata": {},
   "source": [
    "Write a Python program to count number of occurrences of each value in a given array of non-negative integers."
   ]
  },
  {
   "cell_type": "code",
   "execution_count": 34,
   "metadata": {},
   "outputs": [
    {
     "data": {
      "text/plain": [
       "array([1, 1, 1, 1, 1, 1, 1, 1, 1])"
      ]
     },
     "execution_count": 34,
     "metadata": {},
     "output_type": "execute_result"
    }
   ],
   "source": [
    "import numpy as np\n",
    "a=np.arange(9)\n",
    "np.bincount(a)"
   ]
  },
  {
   "cell_type": "code",
   "execution_count": null,
   "metadata": {},
   "outputs": [],
   "source": []
  }
 ],
 "metadata": {
  "kernelspec": {
   "display_name": "Python 3",
   "language": "python",
   "name": "python3"
  },
  "language_info": {
   "codemirror_mode": {
    "name": "ipython",
    "version": 3
   },
   "file_extension": ".py",
   "mimetype": "text/x-python",
   "name": "python",
   "nbconvert_exporter": "python",
   "pygments_lexer": "ipython3",
   "version": "3.7.1"
  }
 },
 "nbformat": 4,
 "nbformat_minor": 4
}
